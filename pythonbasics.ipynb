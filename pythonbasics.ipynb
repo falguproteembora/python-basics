{
  "nbformat": 4,
  "nbformat_minor": 0,
  "metadata": {
    "colab": {
      "provenance": []
    },
    "kernelspec": {
      "name": "python3",
      "display_name": "Python 3"
    },
    "language_info": {
      "name": "python"
    }
  },
  "cells": [
    {
      "cell_type": "markdown",
      "source": [
        "Python Basics"
      ],
      "metadata": {
        "id": "histz01zDqUH"
      }
    },
    {
      "cell_type": "markdown",
      "source": [
        "1. What is Python, and why is it popular?\n",
        "  - Python is a high-level, general-purpose programming language known for its readability and versatility. It was created by Guido van Rossum in the late 1980s.\n",
        "      It is popular beacuse of its Readability, Versatility, Large and active community, Cross-platform compatibility, Extensive libraries, Strong community support,  Growing demand, Ease of learning etc.\n",
        "\n",
        "\n",
        "2. What is an interpreter in Python?\n",
        "  - In Python, an interpreter is a program that executes Python code line by line. It translates the high-level Python code into machine code that the computer can understand and then executes it immediately. This process is known as interpretation.\n",
        "\n",
        "\n",
        "3. What are pre-defined keywords in Python?\n",
        "  - In Python, predefined keywords are reserved words that have special meanings and cannot be used as variable names, function names, or other identifiers. These keywords are essential for the language's syntax and control flow. Some common Python keywords are- While, Else, if, Elif, Break, Continue etc.\n",
        "\n",
        "\n",
        "4.  Can keywords be used as variable names?\n",
        "  - No, keywords cannot be used as variable names in Python.\n",
        " Keywords have special meanings, they are reserved words with specific functions within Python's syntax.\n",
        "\n",
        "\n",
        "\n",
        "5.  What is mutability in Python?\n",
        "  - In Python, mutability refers to the ability to change the value of an object after it has been created. Some examples are List, Dictionaries, Sets etc.\n",
        "\n",
        "\n",
        "6. Why are lists mutable, but tuples are immutable?\n",
        "  - Lists are considered mutable because they allow us to change their contents directly after they are created, meaning we can add, remove, or modify individual elements within a list without having to create a new list entirely. But Tuples in Python are immutable because they are designed to guarantee that a collection of objects will remain the same throughout the lifetime of a program.\n",
        "\n",
        "\n",
        "7. What is the difference between “==” and “is” operators in Python?\n",
        "  - In Python, both \"==\" and \"is\" are used for comparison, but they have distinct meanings:  \n",
        "  \"==\" (Equality Operator):\n",
        "  Checks if the values of two operands are equal and compares the contents of of the objects.  \n",
        "  \"is\" (identity Operator): Checks if two operands refer to the same object in memory and compares the memory addresses of the objects.\n",
        "\n",
        "\n",
        "8.  What are logical operators in Python?\n",
        "  - Logical operators in Python are used to combine or negate Boolean values (True or False). They are essential for controlling the flow of one's code, especially within conditional statements (if, elif, else). And, Or, Not are the examples of logical operator.\n",
        "\n",
        "\n",
        "\n",
        "9. What is type casting in Python?\n",
        "  - In Python, casting refers to the process of converting a variable from one data type to another. As for example-  \n",
        "   bool(): Converts to boolean (True or False).  \n",
        "   x = 1  # x is an integer  \n",
        "   y = bool(x)  # y is now True\n",
        "\n",
        "\n",
        "\n",
        "10.  What is the difference between implicit and explicit type casting?\n",
        "  - Implicit type casting is Autamatic, Generally safer, less likely to loss data on the other hand Explicit type casting  is manual, can be less safe and more likely to loss its data.\n",
        "\n",
        "\n",
        "11.  What is the purpose of conditional statements in Python?\n",
        "  - Conditional statements in Python are essential for controlling the flow of the program's execution. They allow to make decisions based on specific conditions, enabling the code to react differently depending on the circumstances. Therefore the primary purpose of conditional statement is Decision Making.\n",
        "\n",
        "12.  How does the elif statement work?\n",
        "  - The elif statement in Python is used to check for multiple conditions sequentially.  \n",
        "  Here's how it works:  \n",
        "  Initial Condition Check:  \n",
        " Python first evaluates the if condition.  \n",
        " If the if condition is True, the code block within the if statement is executed, and the rest of the elif and else blocks are skipped.  \n",
        " Subsequent Condition Checks:  \n",
        " If the if condition is False, Python moves on to the first elif condition.  \n",
        " If the first elif condition is True, its corresponding code block is executed, and the remaining elif and else blocks are skipped.  \n",
        " This process continues for each elif condition. If none of the elif conditions are True, Python checks the else block.  \n",
        " else Block (Optional):  \n",
        " The else block is executed only if none of the preceding if or elif conditions are True.\n",
        "\n",
        "\n",
        "13. What is the difference between for and while loops?\n",
        "  - The main difference between a for loop and a while loop is that a for loop is used when the user know how many times to repeat a block of code, while a while loop is used when the user doesn't.\n",
        "\n",
        "\n",
        "14. Describe a scenario where a while loop is more suitable than a for loop.\n",
        "  - A while loop is more suitable than a for loop when the user don't know in advance how many times the loop needs to iterate and instead want to continue looping until a specific condition is met, which can change dynamically during the loop execution.  \n",
        "  Example scenario:  \n",
        "  User input validation: When asking a user to input a number within a certain range, one can use a while loop to keep prompting them until they enter a valid number. It is unknown how many times they might enter an invalid input beforehand, so one can check the condition (if the input is valid) within the loop and continue asking until it is.\n",
        "\n",
        "\n"
      ],
      "metadata": {
        "id": "DKgKVeDEI-KA"
      }
    },
    {
      "cell_type": "code",
      "execution_count": null,
      "metadata": {
        "id": "ev7v_OPbDW__",
        "colab": {
          "base_uri": "https://localhost:8080/"
        },
        "outputId": "e78f2dc7-0b7b-4041-d18d-9777a0002cb0"
      },
      "outputs": [
        {
          "output_type": "stream",
          "name": "stdout",
          "text": [
            "Hello, World!\n"
          ]
        }
      ],
      "source": [
        "# 1. Write a Python program to print \"Hello, World!\n",
        "\n",
        "print(\"Hello, World!\")"
      ]
    },
    {
      "cell_type": "code",
      "source": [
        "# 2.  Write a Python program that displays your name and age.\n",
        "\n",
        "print(\"My name is Falgu Proteem Bora\")\n",
        "print(\"and I am 26 years old\")\n",
        "\n",
        "\n"
      ],
      "metadata": {
        "colab": {
          "base_uri": "https://localhost:8080/"
        },
        "id": "Y09qLtXFdqo2",
        "outputId": "f5f13e2d-7ede-4abb-9eb8-3324df3788fb"
      },
      "execution_count": null,
      "outputs": [
        {
          "output_type": "stream",
          "name": "stdout",
          "text": [
            "My name is Falgu Proteem Bora\n",
            "and I am 26 years old\n"
          ]
        }
      ]
    },
    {
      "cell_type": "code",
      "source": [
        "# 3.  Write code to print all the pre-defined keywords in Python using the keyword library.\n",
        "\n",
        "import keyword\n",
        "print(keyword.kwlist)"
      ],
      "metadata": {
        "colab": {
          "base_uri": "https://localhost:8080/"
        },
        "id": "LLw0Pc4qkxje",
        "outputId": "331aeb0e-3f06-488f-8d28-c1f3e6161be6"
      },
      "execution_count": null,
      "outputs": [
        {
          "output_type": "stream",
          "name": "stdout",
          "text": [
            "['False', 'None', 'True', 'and', 'as', 'assert', 'async', 'await', 'break', 'class', 'continue', 'def', 'del', 'elif', 'else', 'except', 'finally', 'for', 'from', 'global', 'if', 'import', 'in', 'is', 'lambda', 'nonlocal', 'not', 'or', 'pass', 'raise', 'return', 'try', 'while', 'with', 'yield']\n"
          ]
        }
      ]
    },
    {
      "cell_type": "code",
      "source": [
        "# 4. Write a program that checks if a given word is a Python keyword.\n",
        "\n",
        "import keyword\n",
        "s= input(\"Enter any word\")\n",
        "if keyword.iskeyword(s):\n",
        "  print(\"Your entered wod is a keyword in Python\")\n",
        "else:\n",
        "  print(\"Your enterd keyword is not  keyword in Python\")"
      ],
      "metadata": {
        "id": "JbhqmLACnuF7",
        "colab": {
          "base_uri": "https://localhost:8080/"
        },
        "outputId": "cc6f673d-24f4-4b41-a32a-e40c3e27af10"
      },
      "execution_count": null,
      "outputs": [
        {
          "output_type": "stream",
          "name": "stdout",
          "text": [
            "Enter any wordif\n",
            "Your entered wod is a keyword in Python\n"
          ]
        }
      ]
    },
    {
      "cell_type": "code",
      "source": [
        "# 11.  Write a program that checks if a number is positive, negative, or zero.\n",
        "\n",
        "num = int(input(\"Enter a number:  \"))\n",
        "if num>0:\n",
        "  print(\"The number is positive\")\n",
        "elif num==0:\n",
        "  print(\"The number is zero\")\n",
        "else:\n",
        "  print(\"The number is negative\")"
      ],
      "metadata": {
        "colab": {
          "base_uri": "https://localhost:8080/"
        },
        "id": "9e7OcQRkuhMa",
        "outputId": "81339631-b8b3-49ac-be9c-bafd7cd8a542"
      },
      "execution_count": 8,
      "outputs": [
        {
          "output_type": "stream",
          "name": "stdout",
          "text": [
            "Enter a number:  -2\n",
            "The number is negative\n"
          ]
        }
      ]
    },
    {
      "cell_type": "code",
      "source": [
        "# 12. Write a for loop to print numbers from 1 to 10.\n",
        "\n",
        "for a in range(1,11):\n",
        "  print(a)"
      ],
      "metadata": {
        "colab": {
          "base_uri": "https://localhost:8080/"
        },
        "id": "6hK0Rc0y3MKA",
        "outputId": "bcedbbe6-653e-4e32-d838-b459d9005dca"
      },
      "execution_count": null,
      "outputs": [
        {
          "output_type": "stream",
          "name": "stdout",
          "text": [
            "1\n",
            "2\n",
            "3\n",
            "4\n",
            "5\n",
            "6\n",
            "7\n",
            "8\n",
            "9\n",
            "10\n"
          ]
        }
      ]
    },
    {
      "cell_type": "code",
      "source": [
        "# 13. Write a Python program to find the sum of all even numbers between 1 and 50.\n",
        "\n",
        "sum = 0\n",
        "for a in range(1,50):\n",
        "  if a % 2 == 0:\n",
        "    sum += a\n",
        "    print (sum)\n",
        "\n"
      ],
      "metadata": {
        "colab": {
          "base_uri": "https://localhost:8080/"
        },
        "id": "0hvzXSWj4t4n",
        "outputId": "ef0a780b-4ef6-49c7-e35a-2145f5840cf1"
      },
      "execution_count": 4,
      "outputs": [
        {
          "output_type": "stream",
          "name": "stdout",
          "text": [
            "2\n",
            "6\n",
            "12\n",
            "20\n",
            "30\n",
            "42\n",
            "56\n",
            "72\n",
            "90\n",
            "110\n",
            "132\n",
            "156\n",
            "182\n",
            "210\n",
            "240\n",
            "272\n",
            "306\n",
            "342\n",
            "380\n",
            "420\n",
            "462\n",
            "506\n",
            "552\n",
            "600\n"
          ]
        }
      ]
    },
    {
      "cell_type": "code",
      "source": [
        "# 15. Write a Python program to calculate the factorial of a number provided by the user using a while loop.\n",
        "\n",
        "num= int(input(\"Enter a number:  \"))\n",
        "fact= 1\n",
        "a= 1\n",
        "while a<= num :\n",
        "  fact= fact*a\n",
        "  a=a=1\n",
        "print(\"The factorial of \",num,\"is\",fact)\n",
        "\n",
        "\n"
      ],
      "metadata": {
        "colab": {
          "base_uri": "https://localhost:8080/"
        },
        "id": "bVuRdsQrs7fV",
        "outputId": "61f3a871-7c1e-4a21-f43b-3007eb5d68c7"
      },
      "execution_count": null,
      "outputs": [
        {
          "name": "stdout",
          "output_type": "stream",
          "text": [
            "Enter a number:  1\n"
          ]
        }
      ]
    }
  ]
}